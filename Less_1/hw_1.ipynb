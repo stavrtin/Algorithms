{
 "cells": [
  {
   "cell_type": "markdown",
   "metadata": {},
   "source": [
    "#### Турчин Максим 1223\n",
    "### Домашние задания"
   ]
  },
  {
   "cell_type": "markdown",
   "metadata": {
    "colab_type": "text",
    "id": "huXrhXQsZTMt"
   },
   "source": [
    "1. Проведите небольшое исследование алгоритма градиентного спуска на данных из урока. Оцените влияние значений скорости обучения (`eta`) и количества итераций на ошибку алгоритма. Как связаны эти два гиперпараметра между собой? Подберите скорость обучения и количество итераций до совпадения ответов алгоритма с результатами МНК. Как можно ускорить процесс вычисления весов?  "
   ]
  },
  {
   "cell_type": "code",
   "execution_count": 3,
   "metadata": {},
   "outputs": [],
   "source": [
    "#pip install matplotlib"
   ]
  },
  {
   "cell_type": "code",
   "execution_count": 6,
   "metadata": {},
   "outputs": [],
   "source": [
    "import numpy as np\n",
    "import matplotlib.pyplot as plt"
   ]
  },
  {
   "cell_type": "code",
   "execution_count": 7,
   "metadata": {},
   "outputs": [],
   "source": [
    "plt.rcParams.update({'font.size': 14,\n",
    "                     'xtick.labelsize': 14})\n",
    "plt.rcParams['figure.figsize'] = (10, 5)\n",
    "plt.style.use('seaborn-ticks')"
   ]
  },
  {
   "cell_type": "code",
   "execution_count": 8,
   "metadata": {},
   "outputs": [],
   "source": [
    "# Исходные данные\n",
    "\n",
    "X = np.array([[1, 1, 1, 1, 1, 1, 1, 1, 1, 1],   # условный коэффициент\n",
    "              [1, 1, 2, 1, 3, 0, 5, 10, 1, 2]]).T # стаж преподавания (лет)\n",
    "# средний балл ЕГЭ (целевая переменная)\n",
    "y = [45, 55, 50, 59, 65, 35, 75, 80, 50, 60]\n"
   ]
  },
  {
   "cell_type": "code",
   "execution_count": 9,
   "metadata": {},
   "outputs": [],
   "source": [
    "# Запишем функции вычисления метрик (используем mae и mse)\n",
    "def calc_mae(y, y_pred):\n",
    "    '''функция вычисления mae'''\n",
    "    err = np.mean(np.abs(y - y_pred))\n",
    "    return err\n",
    "\n",
    "def calc_mse(y, y_pred):\n",
    "    '''функция вычисления mse'''\n",
    "    err = np.mean((y - y_pred)**2)\n",
    "    return err"
   ]
  },
  {
   "cell_type": "code",
   "execution_count": 10,
   "metadata": {},
   "outputs": [
    {
     "name": "stdout",
     "output_type": "stream",
     "text": [
      "Запишем коэффициенты, вычисленные по МНК, и метрику:\n",
      "Коэффициенты: \t[47.23214286  3.91071429], \n",
      "Ошибка mse: \t45.937499999999986\n"
     ]
    }
   ],
   "source": [
    "# Для формирования \"ЭТАЛОННЫХ\" значений коэффициентов применим метод наименьших квадратов\n",
    "# вычислим коэффициенты и будем на них ориентироваться\n",
    "w = np.linalg.inv(X.T @ X) @ X.T @ y\n",
    "print('Запишем коэффициенты, вычисленные по МНК, и метрику:')\n",
    "print(f'Коэффициенты: \\t{w}, \\nОшибка mse: \\t{calc_mse(y, w @ X.T)}')"
   ]
  },
  {
   "cell_type": "code",
   "execution_count": 11,
   "metadata": {},
   "outputs": [],
   "source": [
    "eta_base = [0.0001, 0.0005, 0.001]"
   ]
  },
  {
   "cell_type": "code",
   "execution_count": 14,
   "metadata": {},
   "outputs": [],
   "source": [
    "w = np.array([1, 0.5])\n",
    "n = X.shape[0]\n",
    "iterations = 3001\n",
    "eta_list = []\n",
    "mse_list = []\n",
    " \n",
    "for eta in eta_base:\n",
    "    eta_list.append(eta)\n",
    "    errs = []\n",
    "    for t in range(iterations):\n",
    "        y_pred = np.dot(w, X.T)\n",
    "        err = calc_mse(y, y_pred)\n",
    "        for j in range(w.shape[0]):\n",
    "            w[j] -= eta * (1/n * 2 * np.sum(X[:,j] * (y_pred - y)))\n",
    "        errs.append(err)\n",
    "    mse_list.append(errs)"
   ]
  },
  {
   "cell_type": "code",
   "execution_count": 15,
   "metadata": {},
   "outputs": [
    {
     "data": {
      "image/png": "[encoded data removed]",
      "text/plain": [
       "<Figure size 720x360 with 1 Axes>"
      ]
     },
     "metadata": {},
     "output_type": "display_data"
    }
   ],
   "source": [
    "for i in range(len(eta_list)):\n",
    "    plt.plot(range(iterations), mse_list[i], label='{:.2e}'.format(eta_list[i]))\n",
    "plt.xlabel('Iterations')\n",
    "plt.ylabel('MSE')\n",
    "plt.legend(title=r'$eta:$');"
   ]
  },
  {
   "cell_type": "code",
   "execution_count": 20,
   "metadata": {
    "colab": {
     "base_uri": "https://localhost:8080/",
     "height": 185
    },
    "colab_type": "code",
    "id": "IDB22MQKMYaJ",
    "outputId": "4c03219e-a57c-4583-f439-6699fd0619bb"
   },
   "outputs": [
    {
     "name": "stdout",
     "output_type": "stream",
     "text": [
      "0 [ 8.714 24.3  ] 3173.15\n",
      "100 [ 90145.66877384 487925.52597244] 3006560937495.4287\n",
      "200 [3.42406430e+09 1.85427696e+10] 4.3422928006532086e+21\n",
      "300 [1.30126711e+14 7.04691687e+14] 6.271453384410737e+30\n",
      "400 [4.94528129e+18 2.67808092e+19] 9.057686655059327e+39\n",
      "500 [1.87938409e+23 1.01776671e+24] 1.3081766300802822e+49\n",
      "600 [7.14233298e+27 3.86787820e+28] 1.8893633227335074e+58\n",
      "700 [2.71434246e+32 1.46993231e+33] 2.7287551873415993e+67\n",
      "800 [1.0315474e+37 5.5862695e+37] 3.941065639863664e+76\n",
      "900 [3.92024973e+41 2.12298258e+42] 5.6919720940028355e+85\n",
      "1000 [1.48983537e+46 8.06809452e+46] 8.220757855742908e+94\n"
     ]
    }
   ],
   "source": [
    "# Проверим при высокой скорости обучения\n",
    "n = X.shape[0]\n",
    "eta = 0.07\n",
    "iterations = 1001\n",
    "w = np.array([1, 0.5])\n",
    "\n",
    "for i in range(iterations):\n",
    "    y_pred = np.dot(w, X.T)\n",
    "    err = calc_mse(y, y_pred)\n",
    "    for j in range(w.shape[0]):\n",
    "        w[j] -= eta * (1/n * 2 * np.sum(X[:,j] * (y_pred - y)))\n",
    "    if i % 100 == 0:\n",
    "        print(i, w, err) # МНК: array([47.23214286,  3.91071429]) 45.937499999999986"
   ]
  },
  {
   "cell_type": "markdown",
   "metadata": {},
   "source": [
    "Выводы:\n",
    "\n",
    "При фиксированной скорости обучения ошибка уменьшается, пока не достигнет своего минимума (с увеличением числа итераций).\n",
    "\n",
    "Чем выше скорость обучения (eta), тем меньше требуется итераций, чтобы алгоритм нашел оптимальные веса.\n",
    "\n",
    "При увеличении скорости обучения (eta) алгоритм выходит из минимума функции потерь и ошибка начинает расти."
   ]
  },
  {
   "cell_type": "raw",
   "metadata": {
    "colab_type": "text",
    "id": "5Qu1o4JhZYwI"
   },
   "source": [
    "2(*) В этом коде мы избавляемся от итераций по весам, но тут есть ошибка, исправьте ее:\n",
    "\n",
    "w = np.array([1, 0.5])\n",
    "for i in range(1001):\n",
    "    y_pred = np.dot(w, X.T)\n",
    "    err = calc_mse(y, y_pred)\n",
    "    w -= (eta * (1/n * 2 * np.sum(X.T * (y_pred - y)))) # ошибка!\n",
    "    if i % 100 == 0:\n",
    "        print(i, w, err)"
   ]
  },
  {
   "cell_type": "markdown",
   "metadata": {},
   "source": [
    "формула вычисления градиента имеет вид\n",
    "\n",
    "$$\\nabla_{w}Q(w,X) = \\frac{2}{l}X^{T}(Xw-y).$$"
   ]
  },
  {
   "cell_type": "code",
   "execution_count": 39,
   "metadata": {
    "colab": {
     "base_uri": "https://localhost:8080/",
     "height": 185
    },
    "colab_type": "code",
    "id": "WZZzDCQLY4pA",
    "outputId": "28f58ade-72f2-4381-809d-2417752d56e4"
   },
   "outputs": [
    {
     "name": "stdout",
     "output_type": "stream",
     "text": [
      "0 [2.102 3.9  ] 3173.15\n",
      "100 [31.88770806  6.74418155] 175.19445858001842\n",
      "200 [41.83683774  4.90699865] 61.9177717428135\n",
      "300 [45.33508261  4.26102097] 47.913169919666785\n",
      "400 [46.56511152  4.03388672] 46.181755648107604\n",
      "500 [46.99760587  3.95402334] 45.96769776787538\n",
      "600 [47.14967657  3.92594232] 45.941233404700036\n",
      "700 [47.20314662  3.91606866] 45.93796156758051\n",
      "800 [47.2219474   3.91259695] 45.93755706443538\n",
      "900 [47.228558    3.91137626] 45.937507054979434\n",
      "1000 [47.23088237  3.91094704] 45.937500872219864\n"
     ]
    }
   ],
   "source": [
    "# Правилиный код\n",
    "n = X.shape[0]\n",
    "eta = 0.01\n",
    "iterations = 1001\n",
    "w = np.array([1, 0.5])\n",
    "err = []\n",
    "for i in range(iterations):\n",
    "    y_pred = np.dot(w, X.T)\n",
    "    err = calc_mse(y, y_pred)\n",
    "    w -= eta * (1/n * 2 * (X.T @ (y_pred - y)))\n",
    "    if i % 100 == 0:\n",
    "        print(i, w, err) # [47.23214286  3.91071429] 45.937499999999986"
   ]
  },
  {
   "cell_type": "markdown",
   "metadata": {
    "colab": {},
    "colab_type": "code",
    "id": "kGLyytFgHdco"
   },
   "source": [
    "*3. Вместо того, чтобы задавать количество итераций, задайте условие остановки алгоритма - когда ошибка за итерацию начинает изменяться ниже определенного порога. \n",
    "\n",
    "Сколько нужно сделать итераций, если установить допустимое отклонение mse в размере $\\text{diff}=10^{-6}$, а значение $\\eta=10^{-2}$?"
   ]
  },
  {
   "cell_type": "code",
   "execution_count": 53,
   "metadata": {},
   "outputs": [
    {
     "name": "stdout",
     "output_type": "stream",
     "text": [
      "0 [2.102 3.9  ] 3173.15\n",
      "100 [31.88770806  6.74418155] 175.19445858001842\n",
      "200 [41.83683774  4.90699865] 61.9177717428135\n",
      "300 [45.33508261  4.26102097] 47.913169919666785\n",
      "400 [46.56511152  4.03388672] 46.181755648107604\n",
      "500 [46.99760587  3.95402334] 45.96769776787538\n",
      "600 [47.14967657  3.92594232] 45.941233404700036\n",
      "700 [47.20314662  3.91606866] 45.93796156758051\n",
      "800 [47.2219474   3.91259695] 45.93755706443538\n",
      "809\n"
     ]
    }
   ],
   "source": [
    "w = np.array([1, 0.5])\n",
    "diff = 1e-6\n",
    "eta = 1e-2\n",
    "n = X.shape[0]\n",
    "iterations = 5001\n",
    "w = np.array([1, 0.5])\n",
    "err = []\n",
    "err_1 = 10000\n",
    "for i in range(iterations):\n",
    "    y_pred = np.dot(w, X.T)\n",
    "    err.append(err_1)\n",
    "    err_1 = calc_mse(y, y_pred)\n",
    "    \n",
    "    #print(err[-1], err_1)\n",
    "    if err[-1] -  err_1 <= diff:\n",
    "        break\n",
    "    w -= eta * (1/n * 2 * (X.T @ (y_pred - y)))\n",
    "    if i % 100 == 0:\n",
    "        print(i, w, err_1) # [47.23214286  3.91071429] 45.\n",
    "print(i)"
   ]
  }
 ],
 "metadata": {
  "colab": {
   "collapsed_sections": [],
   "name": "Lesson1.ipynb",
   "provenance": []
  },
  "kernelspec": {
   "display_name": "Python 3 (ipykernel)",
   "language": "python",
   "name": "python3"
  },
  "language_info": {
   "codemirror_mode": {
    "name": "ipython",
    "version": 3
   },
   "file_extension": ".py",
   "mimetype": "text/x-python",
   "name": "python",
   "nbconvert_exporter": "python",
   "pygments_lexer": "ipython3",
   "version": "3.8.10"
  },
  "toc": {
   "base_numbering": 1,
   "nav_menu": {},
   "number_sections": false,
   "sideBar": true,
   "skip_h1_title": true,
   "title_cell": "План занятия",
   "title_sidebar": "План",
   "toc_cell": true,
   "toc_position": {
    "height": "calc(100% - 180px)",
    "left": "10px",
    "top": "150px",
    "width": "165px"
   },
   "toc_section_display": true,
   "toc_window_display": false
  }
 },
 "nbformat": 4,
 "nbformat_minor": 1
}
